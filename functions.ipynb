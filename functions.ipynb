{
  "nbformat": 4,
  "nbformat_minor": 0,
  "metadata": {
    "colab": {
      "provenance": [],
      "authorship_tag": "ABX9TyO9GKQIrCltZWWAsd+gg3ac",
      "include_colab_link": true
    },
    "kernelspec": {
      "name": "python3",
      "display_name": "Python 3"
    },
    "language_info": {
      "name": "python"
    }
  },
  "cells": [
    {
      "cell_type": "markdown",
      "metadata": {
        "id": "view-in-github",
        "colab_type": "text"
      },
      "source": [
        "<a href=\"https://colab.research.google.com/github/supiwmi/172.30.16.50-opsc-sup/blob/master/functions.ipynb\" target=\"_parent\"><img src=\"https://colab.research.google.com/assets/colab-badge.svg\" alt=\"Open In Colab\"/></a>"
      ]
    },
    {
      "cell_type": "code",
      "execution_count": null,
      "metadata": {
        "id": "R5Vpkz9B4SMu"
      },
      "outputs": [],
      "source": []
    },
    {
      "cell_type": "markdown",
      "source": [
        "### Styles of Functions\n",
        "\n",
        "def simple():pass\n"
      ],
      "metadata": {
        "id": "eTfPGdwD4pus"
      }
    },
    {
      "cell_type": "code",
      "source": [
        "def simple ():pass"
      ],
      "metadata": {
        "id": "zIEPO9St4yTz"
      },
      "execution_count": 1,
      "outputs": []
    },
    {
      "cell_type": "code",
      "source": [
        "def simple2():\n",
        "  print(\"Simple2\")"
      ],
      "metadata": {
        "id": "1HlxfbWZ42D8"
      },
      "execution_count": 3,
      "outputs": []
    },
    {
      "cell_type": "code",
      "source": [],
      "metadata": {
        "id": "jMOcc8UC5Atq"
      },
      "execution_count": null,
      "outputs": []
    },
    {
      "cell_type": "code",
      "source": [
        "def simple3():\n",
        "    print(\"simple3\")"
      ],
      "metadata": {
        "id": "nDXWMEsF5DUJ"
      },
      "execution_count": 4,
      "outputs": []
    }
  ]
}