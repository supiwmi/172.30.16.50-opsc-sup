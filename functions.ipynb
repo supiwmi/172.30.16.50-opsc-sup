{
  "nbformat": 4,
  "nbformat_minor": 0,
  "metadata": {
    "colab": {
      "provenance": [],
      "toc_visible": true,
      "authorship_tag": "ABX9TyOJQE6rBW4SOK9qIx9YAkfg",
      "include_colab_link": true
    },
    "kernelspec": {
      "name": "python3",
      "display_name": "Python 3"
    },
    "language_info": {
      "name": "python"
    }
  },
  "cells": [
    {
      "cell_type": "markdown",
      "metadata": {
        "id": "view-in-github",
        "colab_type": "text"
      },
      "source": [
        "<a href=\"https://colab.research.google.com/github/supiwmi/172.30.16.50-opsc-sup/blob/master/functions.ipynb\" target=\"_parent\"><img src=\"https://colab.research.google.com/assets/colab-badge.svg\" alt=\"Open In Colab\"/></a>"
      ]
    },
    {
      "cell_type": "code",
      "source": [
        "print(\"Hello\")"
      ],
      "metadata": {
        "colab": {
          "base_uri": "https://localhost:8080/"
        },
        "id": "IYxtO_Tw5792",
        "outputId": "ba5037ee-81f1-4c7f-9545-a732921bf2d8"
      },
      "execution_count": 6,
      "outputs": [
        {
          "output_type": "stream",
          "name": "stdout",
          "text": [
            "Hello\n"
          ]
        }
      ]
    },
    {
      "cell_type": "markdown",
      "source": [
        "### Style Functions"
      ],
      "metadata": {
        "id": "WXXJ1BzF6ADh"
      }
    },
    {
      "cell_type": "code",
      "source": [
        "def simple():pass"
      ],
      "metadata": {
        "id": "ghHA2tnH6G53"
      },
      "execution_count": 8,
      "outputs": []
    },
    {
      "cell_type": "code",
      "source": [
        "def simple2(): \n",
        "  print(\"Simple2\")"
      ],
      "metadata": {
        "id": "wElJykyc6L5v"
      },
      "execution_count": 12,
      "outputs": []
    },
    {
      "cell_type": "markdown",
      "source": [
        "### Most Usefule Style"
      ],
      "metadata": {
        "id": "3Jnjb_vQ6xX6"
      }
    },
    {
      "cell_type": "code",
      "source": [
        "def my_worker(fruit):\n",
        "  statement = f\"(My favorite meal is chicken and {fruit}\"\n",
        "  meal = {\"dinner\": statement}\n",
        "  return meal"
      ],
      "metadata": {
        "id": "I-0p1udf63lW"
      },
      "execution_count": 23,
      "outputs": []
    },
    {
      "cell_type": "code",
      "source": [
        "meal = my_worker(\"Apple\")"
      ],
      "metadata": {
        "id": "TFfh-ZwR8f3A"
      },
      "execution_count": 25,
      "outputs": []
    },
    {
      "cell_type": "code",
      "source": [
        "type(meal)"
      ],
      "metadata": {
        "id": "ZKqdcfx78kib",
        "outputId": "368ec4f3-e968-43fe-b896-e6f1329a66a7",
        "colab": {
          "base_uri": "https://localhost:8080/"
        }
      },
      "execution_count": 27,
      "outputs": [
        {
          "output_type": "execute_result",
          "data": {
            "text/plain": [
              "dict"
            ]
          },
          "metadata": {},
          "execution_count": 27
        }
      ]
    },
    {
      "cell_type": "code",
      "source": [
        "meal"
      ],
      "metadata": {
        "id": "xIkuKfcf8nKR",
        "outputId": "db67fa0c-778d-4737-8813-d16e64bb3d47",
        "colab": {
          "base_uri": "https://localhost:8080/"
        }
      },
      "execution_count": 29,
      "outputs": [
        {
          "output_type": "execute_result",
          "data": {
            "text/plain": [
              "{'dinner': '(My favorite meal is chicken and Apple'}"
            ]
          },
          "metadata": {},
          "execution_count": 29
        }
      ]
    }
  ]
}